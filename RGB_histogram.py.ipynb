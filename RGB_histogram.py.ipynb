{
 "metadata": {
  "language_info": {
   "codemirror_mode": {
    "name": "ipython",
    "version": 3
   },
   "file_extension": ".py",
   "mimetype": "text/x-python",
   "name": "python",
   "nbconvert_exporter": "python",
   "pygments_lexer": "ipython3",
   "version": 3
  },
  "orig_nbformat": 2
 },
 "nbformat": 4,
 "nbformat_minor": 2,
 "cells": [
  {
   "cell_type": "code",
   "execution_count": null,
   "metadata": {},
   "outputs": [],
   "source": [
    "from PIL import Image\n",
    "import matplotlib.pyplot as plt\n",
    "import math \n",
    "# image on which histogram is to be plotted \n",
    "img = Image.open(\"nature.jpg\") \n",
    "pixels = img.load()\n",
    "# for storing key values \n",
    "# key is the pixel intensity \n",
    "# values are the number of pixels \n",
    "redMap = {} \t                    # for red\n",
    "greenMap = {} \t                    # for green\n",
    "blueMap = {}\t                    # for blue\n",
    "for i in range(img.size[0]):\n",
    "    for j in range(img.size[1]):\n",
    "    \tr, g, b = pixels[i, j][0], pixels[i, j][1], pixels[i, j][2];\n",
    "    \tif redMap.get(r) == None:\n",
    "    \t\tredMap[r] = 1;\n",
    "    \telse:\n",
    "    \t\tredMap[r] = redMap.get(r)+1;\n",
    "    \tif greenMap.get(g) == None:\n",
    "    \t\tgreenMap[g] = 1;\n",
    "    \telse:\n",
    "    \t\tgreenMap[g] = greenMap.get(g)+1;\n",
    "    \tif blueMap.get(b) == None:\n",
    "    \t\tblueMap[b] = 1;\n",
    "    \telse:\n",
    "    \t\tblueMap[b] = blueMap.get(b)+1;\n",
    "plt.bar(list(redMap.keys()), redMap.values(), color='r')\n",
    "plt.show()\n",
    "plt.bar(list(greenMap.keys()), greenMap.values(), color='g')\n",
    "plt.show()\n",
    "plt.bar(list(blueMap.keys()), blueMap.values(), color='b')\n",
    "plt.show()"
   ]
  }
 ]
}