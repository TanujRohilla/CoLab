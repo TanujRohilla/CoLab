{
  "nbformat": 4,
  "nbformat_minor": 0,
  "metadata": {
    "colab": {
      "name": "Regression.ipynb",
      "version": "0.3.2",
      "provenance": [],
      "collapsed_sections": [],
      "include_colab_link": true
    },
    "kernelspec": {
      "name": "python3",
      "display_name": "Python 3"
    }
  },
  "cells": [
    {
      "cell_type": "markdown",
      "metadata": {
        "id": "view-in-github",
        "colab_type": "text"
      },
      "source": [
        "<a href=\"https://colab.research.google.com/github/TanujRohilla/CoLab/blob/master/Regression.ipynb\" target=\"_parent\"><img src=\"https://colab.research.google.com/assets/colab-badge.svg\" alt=\"Open In Colab\"/></a>"
      ]
    },
    {
      "metadata": {
        "id": "mVrhYnPxiBGT",
        "colab_type": "code",
        "colab": {}
      },
      "cell_type": "code",
      "source": [
        "import tensorflow as tf\n",
        "import numpy\n",
        "import matplotlib.pyplot as plt\n",
        "rng = numpy.random"
      ],
      "execution_count": 0,
      "outputs": []
    },
    {
      "metadata": {
        "id": "8sKWxWK3ibyi",
        "colab_type": "text"
      },
      "cell_type": "markdown",
      "source": [
        "#Parameter Setting"
      ]
    },
    {
      "metadata": {
        "id": "e2MMyHnIiWQx",
        "colab_type": "code",
        "colab": {}
      },
      "cell_type": "code",
      "source": [
        "# Parameters\n",
        "learning_rate = 0.01\n",
        "training_epochs = 1000\n",
        "display_step = 50"
      ],
      "execution_count": 0,
      "outputs": []
    },
    {
      "metadata": {
        "id": "99tD-K-JiuQZ",
        "colab_type": "text"
      },
      "cell_type": "markdown",
      "source": [
        "#Defining training dataset"
      ]
    },
    {
      "metadata": {
        "id": "p6QTbynwirGU",
        "colab_type": "code",
        "colab": {}
      },
      "cell_type": "code",
      "source": [
        "# Training Data\n",
        "train_X = numpy.asarray([3.3,4.4,5.5,6.71,6.93,4.168,9.779,6.182,7.59,2.167,\n",
        "                         7.042,10.791,5.313,7.997,5.654,9.27,3.1])\n",
        "train_Y = numpy.asarray([1.7,2.76,2.09,3.19,1.694,1.573,3.366,2.596,2.53,1.221,\n",
        "                         2.827,3.465,1.65,2.904,2.42,2.94,1.3])\n",
        "# n_samples = train_X.shape[0]"
      ],
      "execution_count": 0,
      "outputs": []
    },
    {
      "metadata": {
        "id": "IYU1Ptu5jckS",
        "colab_type": "text"
      },
      "cell_type": "markdown",
      "source": [
        "#Defining the tensorflow placeholder and variable"
      ]
    },
    {
      "metadata": {
        "id": "U9KBJMfXjaz7",
        "colab_type": "code",
        "colab": {}
      },
      "cell_type": "code",
      "source": [
        "# tf Graph Input\n",
        "X = tf.placeholder(\"float\")\n",
        "Y = tf.placeholder(\"float\")\n",
        "\n",
        "# Set model weights\n",
        "W = tf.Variable(rng.randn(), name=\"weight\")\n",
        "b = tf.Variable(rng.randn(), name=\"bias\")\n"
      ],
      "execution_count": 0,
      "outputs": []
    },
    {
      "metadata": {
        "id": "mdErpPl1kOlF",
        "colab_type": "text"
      },
      "cell_type": "markdown",
      "source": [
        "#Defining model, cost function, and optimizer"
      ]
    },
    {
      "metadata": {
        "id": "ntv7exSOkFER",
        "colab_type": "code",
        "colab": {}
      },
      "cell_type": "code",
      "source": [
        "# Construct a linear model\n",
        "pred = tf.add(tf.multiply(X, W), b)\n",
        "\n",
        "# Mean squared error\n",
        "# cost = tf.reduce_sum(tf.pow(pred-Y, 2))/(2*n_samples)\n",
        "cost = tf.reduce_sum(tf.pow(pred-Y, 2))/(2)\n",
        "# Gradient descent\n",
        "#  Note, minimize() knows to modify W and b because Variable objects are trainable=True by default\n",
        "optimizer = tf.train.GradientDescentOptimizer(learning_rate).minimize(cost)\n",
        "\n",
        "# Initialize the variables (i.e. assign their default value)\n",
        "init = tf.global_variables_initializer()\n"
      ],
      "execution_count": 0,
      "outputs": []
    },
    {
      "metadata": {
        "id": "dMvyfYorls5l",
        "colab_type": "text"
      },
      "cell_type": "markdown",
      "source": [
        "#Build the model and execute on the training and testing data"
      ]
    },
    {
      "metadata": {
        "id": "B1bclI45lTTM",
        "colab_type": "code",
        "colab": {}
      },
      "cell_type": "code",
      "source": [
        "# Start training\n",
        "sess = tf.Session()\n",
        "# Another option: with tf.Session() as sess:\n",
        "\n",
        "\n",
        "# Run the initializer\n",
        "sess.run(init)\n",
        "\n"
      ],
      "execution_count": 0,
      "outputs": []
    },
    {
      "metadata": {
        "id": "ONhoT8oOmrEo",
        "colab_type": "code",
        "colab": {
          "base_uri": "https://localhost:8080/",
          "height": 6304
        },
        "outputId": "ac737fc1-4a79-4162-e240-c0252049bc51"
      },
      "cell_type": "code",
      "source": [
        "# Fit all training data\n",
        "for epoch in range(training_epochs):\n",
        "  for (x, y) in zip(train_X, train_Y):\n",
        "    sess.run(optimizer, feed_dict={X: x, Y: y})\n",
        "\n",
        "    # Display logs per epoch step\n",
        "    if (epoch+1) % display_step == 0:\n",
        "      c = sess.run(cost, feed_dict={X: train_X, Y:train_Y})\n",
        "      print(\"Epoch:\", '%04d' % (epoch+1), \"cost=\", \"{:.9f}\".format(c), \\\n",
        "              \"W=\", sess.run(W), \"b=\", sess.run(b))\n",
        "\n",
        "print(\"Optimization Finished!\")\n",
        "\n",
        "# Print the cost, weight and bias after the model training\n",
        "training_cost = sess.run(cost, feed_dict={X: train_X, Y: train_Y})\n",
        "print(\"Training cost=\", training_cost, \"W=\", sess.run(W), \"b=\", sess.run(b), '\\n')\n",
        "    \n",
        "# Graphic display\n",
        "plt.plot(train_X, train_Y, 'ro', label='Original data')\n",
        "plt.plot(train_X, sess.run(W) * train_X + sess.run(b), label='Fitted line')\n",
        "plt.legend()\n",
        "plt.show()"
      ],
      "execution_count": 32,
      "outputs": [
        {
          "output_type": "stream",
          "text": [
            "Epoch: 0050 cost= 1.616958737 W= 0.18263106 b= 1.1272793\n",
            "Epoch: 0050 cost= 1.510136843 W= 0.2191134 b= 1.1355708\n",
            "Epoch: 0050 cost= 1.425546408 W= 0.2053252 b= 1.1330638\n",
            "Epoch: 0050 cost= 2.270148993 W= 0.2508998 b= 1.1398559\n",
            "Epoch: 0050 cost= 1.923804045 W= 0.16880761 b= 1.1280099\n",
            "Epoch: 0050 cost= 2.275062799 W= 0.15802915 b= 1.1254239\n",
            "Epoch: 0050 cost= 1.595663190 W= 0.22601363 b= 1.132376\n",
            "Epoch: 0050 cost= 1.670094848 W= 0.23011896 b= 1.1330401\n",
            "Epoch: 0050 cost= 1.423774600 W= 0.20358105 b= 1.1295437\n",
            "Epoch: 0050 cost= 1.455158949 W= 0.19600298 b= 1.1260467\n",
            "Epoch: 0050 cost= 1.490633607 W= 0.2185867 b= 1.1292536\n",
            "Epoch: 0050 cost= 1.467402935 W= 0.2161023 b= 1.1290234\n",
            "Epoch: 0050 cost= 1.622305632 W= 0.18278049 b= 1.1227517\n",
            "Epoch: 0050 cost= 1.423185825 W= 0.20833512 b= 1.1259472\n",
            "Epoch: 0050 cost= 1.454801679 W= 0.21490088 b= 1.1271085\n",
            "Epoch: 0050 cost= 1.440693498 W= 0.19828536 b= 1.125316\n",
            "Epoch: 0050 cost= 1.593866467 W= 0.18464534 b= 1.120916\n",
            "Epoch: 0100 cost= 1.481722355 W= 0.21336374 b= 0.9256866\n",
            "Epoch: 0100 cost= 1.481393814 W= 0.2527663 b= 0.9346417\n",
            "Epoch: 0100 cost= 1.344942570 W= 0.23984921 b= 0.9322932\n",
            "Epoch: 0100 cost= 2.323076963 W= 0.2833514 b= 0.9387764\n",
            "Epoch: 0100 cost= 1.761034608 W= 0.19960918 b= 0.92669237\n",
            "Epoch: 0100 cost= 1.989592671 W= 0.19187072 b= 0.92483574\n",
            "Epoch: 0100 cost= 1.399776936 W= 0.24710841 b= 0.93048435\n",
            "Epoch: 0100 cost= 1.520635247 W= 0.25563285 b= 0.93186325\n",
            "Epoch: 0100 cost= 1.330719233 W= 0.2296662 b= 0.92844206\n",
            "Epoch: 0100 cost= 1.351899743 W= 0.22522107 b= 0.92639077\n",
            "Epoch: 0100 cost= 1.400930405 W= 0.24737537 b= 0.9295368\n",
            "Epoch: 0100 cost= 1.325507283 W= 0.23291926 b= 0.92819715\n",
            "Epoch: 0100 cost= 1.632739663 W= 0.20552027 b= 0.92304015\n",
            "Epoch: 0100 cost= 1.325450540 W= 0.2325033 b= 0.9264143\n",
            "Epoch: 0100 cost= 1.357215762 W= 0.24262466 b= 0.9282044\n",
            "Epoch: 0100 cost= 1.389782786 W= 0.22062369 b= 0.9258311\n",
            "Epoch: 0100 cost= 1.526210785 W= 0.21102099 b= 0.9227334\n",
            "Epoch: 0150 cost= 1.457303882 W= 0.22324958 b= 0.8608398\n",
            "Epoch: 0150 cost= 1.494856000 W= 0.26359153 b= 0.8700084\n",
            "Epoch: 0150 cost= 1.343362808 W= 0.25095463 b= 0.86771077\n",
            "Epoch: 0150 cost= 2.360967159 W= 0.29379016 b= 0.8740946\n",
            "Epoch: 0150 cost= 1.727793932 W= 0.20951718 b= 0.861934\n",
            "Epoch: 0150 cost= 1.920828938 W= 0.20275661 b= 0.860312\n",
            "Epoch: 0150 cost= 1.363538027 W= 0.25389403 b= 0.8655413\n",
            "Epoch: 0150 cost= 1.491904259 W= 0.26384 b= 0.8671501\n",
            "Epoch: 0150 cost= 1.319653749 W= 0.23805709 b= 0.8637532\n",
            "Epoch: 0150 cost= 1.336721539 W= 0.23461974 b= 0.86216694\n",
            "Epoch: 0150 cost= 1.389995933 W= 0.2566359 b= 0.8652933\n",
            "Epoch: 0150 cost= 1.318821192 W= 0.23832881 b= 0.8635968\n",
            "Epoch: 0150 cost= 1.658523440 W= 0.21283503 b= 0.85879844\n",
            "Epoch: 0150 cost= 1.314255476 W= 0.24027753 b= 0.86223006\n",
            "Epoch: 0150 cost= 1.343533397 W= 0.2515426 b= 0.86422247\n",
            "Epoch: 0150 cost= 1.396448493 W= 0.22780931 b= 0.86166227\n",
            "Epoch: 0150 cost= 1.522379279 W= 0.21950531 b= 0.8589836\n",
            "Epoch: 0200 cost= 1.451423526 W= 0.2264296 b= 0.8399803\n",
            "Epoch: 0200 cost= 1.501535773 W= 0.2670737 b= 0.8492176\n",
            "Epoch: 0200 cost= 1.345373631 W= 0.25452694 b= 0.84693635\n",
            "Epoch: 0200 cost= 2.375314713 W= 0.29714805 b= 0.85328823\n",
            "Epoch: 0200 cost= 1.719078541 W= 0.21270435 b= 0.841103\n",
            "Epoch: 0200 cost= 1.901095152 W= 0.20625834 b= 0.83955646\n",
            "Epoch: 0200 cost= 1.354651213 W= 0.25607678 b= 0.84465086\n",
            "Epoch: 0200 cost= 1.484664321 W= 0.26648 b= 0.8463337\n",
            "Epoch: 0200 cost= 1.318047047 W= 0.2407562 b= 0.8429445\n",
            "Epoch: 0200 cost= 1.333705902 W= 0.23764302 b= 0.84150785\n",
            "Epoch: 0200 cost= 1.388333082 W= 0.25961477 b= 0.844628\n",
            "Epoch: 0200 cost= 1.320701361 W= 0.24006891 b= 0.84281665\n",
            "Epoch: 0200 cost= 1.669138432 W= 0.21518798 b= 0.83813363\n",
            "Epoch: 0200 cost= 1.312749386 W= 0.24277829 b= 0.8415837\n",
            "Epoch: 0200 cost= 1.340964794 W= 0.25441128 b= 0.8436412\n",
            "Epoch: 0200 cost= 1.400976777 W= 0.23012073 b= 0.8410209\n",
            "Epoch: 0200 cost= 1.523002148 W= 0.22223449 b= 0.83847696\n",
            "Epoch: 0250 cost= 1.449736476 W= 0.22745247 b= 0.83327067\n",
            "Epoch: 0250 cost= 1.503927350 W= 0.26819375 b= 0.8425301\n",
            "Epoch: 0250 cost= 1.346281409 W= 0.25567597 b= 0.8402541\n",
            "Epoch: 0250 cost= 2.380152941 W= 0.2982281 b= 0.8465957\n",
            "Epoch: 0250 cost= 1.716480851 W= 0.21372949 b= 0.83440256\n",
            "Epoch: 0250 cost= 1.894995928 W= 0.20738466 b= 0.8328803\n",
            "Epoch: 0250 cost= 1.352079511 W= 0.2567789 b= 0.8379314\n",
            "Epoch: 0250 cost= 1.482543111 W= 0.2673292 b= 0.839638\n",
            "Epoch: 0250 cost= 1.317732215 W= 0.24162439 b= 0.8362513\n",
            "Epoch: 0250 cost= 1.332928896 W= 0.23861547 b= 0.8348628\n",
            "Epoch: 0250 cost= 1.387990236 W= 0.2605729 b= 0.8379809\n",
            "Epoch: 0250 cost= 1.321723223 W= 0.2406286 b= 0.8361327\n",
            "Epoch: 0250 cost= 1.672793150 W= 0.2159448 b= 0.83148676\n",
            "Epoch: 0250 cost= 1.312481403 W= 0.24358265 b= 0.8349428\n",
            "Epoch: 0250 cost= 1.340328097 W= 0.255334 b= 0.83702123\n",
            "Epoch: 0250 cost= 1.402680039 W= 0.2308642 b= 0.8343816\n",
            "Epoch: 0250 cost= 1.523394227 W= 0.22311231 b= 0.831881\n",
            "Epoch: 0300 cost= 1.449215055 W= 0.22778147 b= 0.8311125\n",
            "Epoch: 0300 cost= 1.504721999 W= 0.26855403 b= 0.840379\n",
            "Epoch: 0300 cost= 1.346600294 W= 0.25604558 b= 0.8381047\n",
            "Epoch: 0300 cost= 2.381732941 W= 0.29857555 b= 0.844443\n",
            "Epoch: 0300 cost= 1.715666175 W= 0.21405925 b= 0.8322473\n",
            "Epoch: 0300 cost= 1.893058777 W= 0.20774697 b= 0.8307329\n",
            "Epoch: 0300 cost= 1.351281881 W= 0.25700474 b= 0.83576995\n",
            "Epoch: 0300 cost= 1.481882095 W= 0.26760235 b= 0.83748424\n",
            "Epoch: 0300 cost= 1.317651510 W= 0.24190366 b= 0.8340984\n",
            "Epoch: 0300 cost= 1.332699060 W= 0.23892829 b= 0.83272535\n",
            "Epoch: 0300 cost= 1.387899637 W= 0.26088113 b= 0.8358428\n",
            "Epoch: 0300 cost= 1.322095394 W= 0.24080865 b= 0.83398265\n",
            "Epoch: 0300 cost= 1.673993111 W= 0.21618825 b= 0.8293487\n",
            "Epoch: 0300 cost= 1.312417388 W= 0.2438414 b= 0.83280665\n",
            "Epoch: 0300 cost= 1.340142965 W= 0.2556308 b= 0.8348918\n",
            "Epoch: 0300 cost= 1.403253436 W= 0.23110336 b= 0.8322459\n",
            "Epoch: 0300 cost= 1.523540258 W= 0.2233947 b= 0.82975924\n",
            "Epoch: 0350 cost= 1.449049354 W= 0.22788736 b= 0.830418\n",
            "Epoch: 0350 cost= 1.504980206 W= 0.26866996 b= 0.83968675\n",
            "Epoch: 0350 cost= 1.346705556 W= 0.25616452 b= 0.837413\n",
            "Epoch: 0350 cost= 2.382242441 W= 0.29868734 b= 0.84375024\n",
            "Epoch: 0350 cost= 1.715406299 W= 0.21416536 b= 0.8315537\n",
            "Epoch: 0350 cost= 1.892438293 W= 0.20786355 b= 0.83004177\n",
            "Epoch: 0350 cost= 1.351028085 W= 0.2570774 b= 0.83507437\n",
            "Epoch: 0350 cost= 1.481670737 W= 0.2676902 b= 0.8367911\n",
            "Epoch: 0350 cost= 1.317628145 W= 0.24199352 b= 0.8334055\n",
            "Epoch: 0350 cost= 1.332627177 W= 0.23902895 b= 0.83203745\n",
            "Epoch: 0350 cost= 1.387872577 W= 0.2609803 b= 0.83515465\n",
            "Epoch: 0350 cost= 1.322219491 W= 0.24086659 b= 0.8332907\n",
            "Epoch: 0350 cost= 1.674381971 W= 0.2162666 b= 0.82866055\n",
            "Epoch: 0350 cost= 1.312399507 W= 0.24392466 b= 0.8321191\n",
            "Epoch: 0350 cost= 1.340085268 W= 0.2557263 b= 0.8342064\n",
            "Epoch: 0350 cost= 1.403440595 W= 0.23118034 b= 0.8315585\n",
            "Epoch: 0350 cost= 1.523589611 W= 0.22348559 b= 0.82907635\n",
            "Epoch: 0400 cost= 1.448996186 W= 0.22792146 b= 0.8301943\n",
            "Epoch: 0400 cost= 1.505063415 W= 0.2687073 b= 0.83946383\n",
            "Epoch: 0400 cost= 1.346740127 W= 0.25620285 b= 0.8371903\n",
            "Epoch: 0400 cost= 2.382408619 W= 0.29872337 b= 0.84352714\n",
            "Epoch: 0400 cost= 1.715322733 W= 0.21419954 b= 0.83133036\n",
            "Epoch: 0400 cost= 1.892238736 W= 0.2079011 b= 0.8298192\n",
            "Epoch: 0400 cost= 1.350946546 W= 0.2571008 b= 0.8348504\n",
            "Epoch: 0400 cost= 1.481603384 W= 0.26771852 b= 0.8365679\n",
            "Epoch: 0400 cost= 1.317620516 W= 0.24202247 b= 0.83318233\n",
            "Epoch: 0400 cost= 1.332604051 W= 0.23906137 b= 0.8318159\n",
            "Epoch: 0400 cost= 1.387863874 W= 0.26101226 b= 0.83493304\n",
            "Epoch: 0400 cost= 1.322259665 W= 0.24088526 b= 0.8330679\n",
            "Epoch: 0400 cost= 1.674507260 W= 0.21629184 b= 0.828439\n",
            "Epoch: 0400 cost= 1.312393904 W= 0.24395147 b= 0.83189774\n",
            "Epoch: 0400 cost= 1.340066910 W= 0.25575706 b= 0.83398575\n",
            "Epoch: 0400 cost= 1.403501391 W= 0.2312051 b= 0.8313372\n",
            "Epoch: 0400 cost= 1.523605943 W= 0.22351484 b= 0.82885647\n",
            "Epoch: 0450 cost= 1.448979497 W= 0.22793223 b= 0.83012366\n",
            "Epoch: 0450 cost= 1.505089879 W= 0.2687191 b= 0.83939344\n",
            "Epoch: 0450 cost= 1.346750855 W= 0.25621495 b= 0.83711994\n",
            "Epoch: 0450 cost= 2.382460594 W= 0.29873472 b= 0.84345675\n",
            "Epoch: 0450 cost= 1.715296745 W= 0.21421032 b= 0.83125985\n",
            "Epoch: 0450 cost= 1.892175794 W= 0.20791295 b= 0.829749\n",
            "Epoch: 0450 cost= 1.350920916 W= 0.25710818 b= 0.8347797\n",
            "Epoch: 0450 cost= 1.481582284 W= 0.26772746 b= 0.8364974\n",
            "Epoch: 0450 cost= 1.317618370 W= 0.2420316 b= 0.83311194\n",
            "Epoch: 0450 cost= 1.332596779 W= 0.23907161 b= 0.831746\n",
            "Epoch: 0450 cost= 1.387861252 W= 0.26102233 b= 0.8348631\n",
            "Epoch: 0450 cost= 1.322272539 W= 0.24089114 b= 0.83299756\n",
            "Epoch: 0450 cost= 1.674546838 W= 0.21629982 b= 0.828369\n",
            "Epoch: 0450 cost= 1.312392235 W= 0.24395993 b= 0.8318278\n",
            "Epoch: 0450 cost= 1.340060949 W= 0.25576678 b= 0.83391607\n",
            "Epoch: 0450 cost= 1.403520346 W= 0.23121296 b= 0.83126736\n",
            "Epoch: 0450 cost= 1.523610234 W= 0.22352411 b= 0.8287871\n",
            "Epoch: 0500 cost= 1.448973894 W= 0.22793582 b= 0.8301001\n",
            "Epoch: 0500 cost= 1.505098939 W= 0.26872304 b= 0.83936995\n",
            "Epoch: 0500 cost= 1.346754432 W= 0.25621897 b= 0.8370965\n",
            "Epoch: 0500 cost= 2.382477522 W= 0.2987385 b= 0.84343326\n",
            "Epoch: 0500 cost= 1.715287328 W= 0.21421392 b= 0.83123636\n",
            "Epoch: 0500 cost= 1.892154813 W= 0.2079169 b= 0.82972556\n",
            "Epoch: 0500 cost= 1.350912571 W= 0.25711066 b= 0.83475614\n",
            "Epoch: 0500 cost= 1.481575131 W= 0.26773044 b= 0.836474\n",
            "Epoch: 0500 cost= 1.317617416 W= 0.24203464 b= 0.8330885\n",
            "Epoch: 0500 cost= 1.332594633 W= 0.239075 b= 0.83172274\n",
            "Epoch: 0500 cost= 1.387860537 W= 0.2610257 b= 0.8348398\n",
            "Epoch: 0500 cost= 1.322276950 W= 0.24089311 b= 0.83297414\n",
            "Epoch: 0500 cost= 1.674560547 W= 0.21630245 b= 0.8283457\n",
            "Epoch: 0500 cost= 1.312391281 W= 0.24396276 b= 0.8318046\n",
            "Epoch: 0500 cost= 1.340059161 W= 0.25577003 b= 0.8338929\n",
            "Epoch: 0500 cost= 1.403526545 W= 0.23121555 b= 0.83124405\n",
            "Epoch: 0500 cost= 1.523612380 W= 0.22352716 b= 0.8287639\n",
            "Epoch: 0550 cost= 1.448972225 W= 0.22793697 b= 0.83009255\n",
            "Epoch: 0550 cost= 1.505101323 W= 0.2687243 b= 0.8393624\n",
            "Epoch: 0550 cost= 1.346755385 W= 0.25622025 b= 0.83708894\n",
            "Epoch: 0550 cost= 2.382483244 W= 0.29873973 b= 0.8434257\n",
            "Epoch: 0550 cost= 1.715284824 W= 0.21421508 b= 0.8312288\n",
            "Epoch: 0550 cost= 1.892147899 W= 0.20791818 b= 0.829718\n",
            "Epoch: 0550 cost= 1.350909948 W= 0.25711146 b= 0.8347485\n",
            "Epoch: 0550 cost= 1.481573105 W= 0.26773143 b= 0.8364664\n",
            "Epoch: 0550 cost= 1.317617178 W= 0.24203564 b= 0.8330809\n",
            "Epoch: 0550 cost= 1.332593918 W= 0.23907612 b= 0.83171517\n",
            "Epoch: 0550 cost= 1.387860298 W= 0.2610268 b= 0.83483225\n",
            "Epoch: 0550 cost= 1.322278380 W= 0.24089375 b= 0.8329665\n",
            "Epoch: 0550 cost= 1.674564481 W= 0.21630332 b= 0.82833815\n",
            "Epoch: 0550 cost= 1.312391043 W= 0.24396367 b= 0.831797\n",
            "Epoch: 0550 cost= 1.340058684 W= 0.25577107 b= 0.8338853\n",
            "Epoch: 0550 cost= 1.403528690 W= 0.23121642 b= 0.8312365\n",
            "Epoch: 0550 cost= 1.523612618 W= 0.22352819 b= 0.8287564\n",
            "Epoch: 0600 cost= 1.448971510 W= 0.22793731 b= 0.8300904\n",
            "Epoch: 0600 cost= 1.505102873 W= 0.26872468 b= 0.83936024\n",
            "Epoch: 0600 cost= 1.346755743 W= 0.25622064 b= 0.8370868\n",
            "Epoch: 0600 cost= 2.382485151 W= 0.2987401 b= 0.84342355\n",
            "Epoch: 0600 cost= 1.715284228 W= 0.2142154 b= 0.83122665\n",
            "Epoch: 0600 cost= 1.892146349 W= 0.20791852 b= 0.8297159\n",
            "Epoch: 0600 cost= 1.350908518 W= 0.25711164 b= 0.8347464\n",
            "Epoch: 0600 cost= 1.481572032 W= 0.26773167 b= 0.8364643\n",
            "Epoch: 0600 cost= 1.317617416 W= 0.24203591 b= 0.8330788\n",
            "Epoch: 0600 cost= 1.332593441 W= 0.23907642 b= 0.8317131\n",
            "Epoch: 0600 cost= 1.387860060 W= 0.26102707 b= 0.83483016\n",
            "Epoch: 0600 cost= 1.322278500 W= 0.24089395 b= 0.8329644\n",
            "Epoch: 0600 cost= 1.674565554 W= 0.21630357 b= 0.82833606\n",
            "Epoch: 0600 cost= 1.312391162 W= 0.24396394 b= 0.8317949\n",
            "Epoch: 0600 cost= 1.340058208 W= 0.25577137 b= 0.8338832\n",
            "Epoch: 0600 cost= 1.403529286 W= 0.23121662 b= 0.8312344\n",
            "Epoch: 0600 cost= 1.523612976 W= 0.22352844 b= 0.82875437\n",
            "Epoch: 0650 cost= 1.448971510 W= 0.22793731 b= 0.8300904\n",
            "Epoch: 0650 cost= 1.505102873 W= 0.26872468 b= 0.83936024\n",
            "Epoch: 0650 cost= 1.346755743 W= 0.25622064 b= 0.8370868\n",
            "Epoch: 0650 cost= 2.382485151 W= 0.2987401 b= 0.84342355\n",
            "Epoch: 0650 cost= 1.715284228 W= 0.2142154 b= 0.83122665\n",
            "Epoch: 0650 cost= 1.892146349 W= 0.20791852 b= 0.8297159\n",
            "Epoch: 0650 cost= 1.350908518 W= 0.25711164 b= 0.8347464\n",
            "Epoch: 0650 cost= 1.481572032 W= 0.26773167 b= 0.8364643\n",
            "Epoch: 0650 cost= 1.317617416 W= 0.24203591 b= 0.8330788\n",
            "Epoch: 0650 cost= 1.332593441 W= 0.23907642 b= 0.8317131\n",
            "Epoch: 0650 cost= 1.387860060 W= 0.26102707 b= 0.83483016\n",
            "Epoch: 0650 cost= 1.322278500 W= 0.24089395 b= 0.8329644\n",
            "Epoch: 0650 cost= 1.674565554 W= 0.21630357 b= 0.82833606\n",
            "Epoch: 0650 cost= 1.312391162 W= 0.24396394 b= 0.8317949\n",
            "Epoch: 0650 cost= 1.340058208 W= 0.25577137 b= 0.8338832\n",
            "Epoch: 0650 cost= 1.403529286 W= 0.23121662 b= 0.8312344\n",
            "Epoch: 0650 cost= 1.523612976 W= 0.22352844 b= 0.82875437\n",
            "Epoch: 0700 cost= 1.448971510 W= 0.22793731 b= 0.8300904\n",
            "Epoch: 0700 cost= 1.505102873 W= 0.26872468 b= 0.83936024\n",
            "Epoch: 0700 cost= 1.346755743 W= 0.25622064 b= 0.8370868\n",
            "Epoch: 0700 cost= 2.382485151 W= 0.2987401 b= 0.84342355\n",
            "Epoch: 0700 cost= 1.715284228 W= 0.2142154 b= 0.83122665\n",
            "Epoch: 0700 cost= 1.892146349 W= 0.20791852 b= 0.8297159\n",
            "Epoch: 0700 cost= 1.350908518 W= 0.25711164 b= 0.8347464\n",
            "Epoch: 0700 cost= 1.481572032 W= 0.26773167 b= 0.8364643\n",
            "Epoch: 0700 cost= 1.317617416 W= 0.24203591 b= 0.8330788\n",
            "Epoch: 0700 cost= 1.332593441 W= 0.23907642 b= 0.8317131\n",
            "Epoch: 0700 cost= 1.387860060 W= 0.26102707 b= 0.83483016\n",
            "Epoch: 0700 cost= 1.322278500 W= 0.24089395 b= 0.8329644\n",
            "Epoch: 0700 cost= 1.674565554 W= 0.21630357 b= 0.82833606\n",
            "Epoch: 0700 cost= 1.312391162 W= 0.24396394 b= 0.8317949\n",
            "Epoch: 0700 cost= 1.340058208 W= 0.25577137 b= 0.8338832\n",
            "Epoch: 0700 cost= 1.403529286 W= 0.23121662 b= 0.8312344\n",
            "Epoch: 0700 cost= 1.523612976 W= 0.22352844 b= 0.82875437\n",
            "Epoch: 0750 cost= 1.448971510 W= 0.22793731 b= 0.8300904\n",
            "Epoch: 0750 cost= 1.505102873 W= 0.26872468 b= 0.83936024\n",
            "Epoch: 0750 cost= 1.346755743 W= 0.25622064 b= 0.8370868\n",
            "Epoch: 0750 cost= 2.382485151 W= 0.2987401 b= 0.84342355\n",
            "Epoch: 0750 cost= 1.715284228 W= 0.2142154 b= 0.83122665\n",
            "Epoch: 0750 cost= 1.892146349 W= 0.20791852 b= 0.8297159\n",
            "Epoch: 0750 cost= 1.350908518 W= 0.25711164 b= 0.8347464\n",
            "Epoch: 0750 cost= 1.481572032 W= 0.26773167 b= 0.8364643\n",
            "Epoch: 0750 cost= 1.317617416 W= 0.24203591 b= 0.8330788\n",
            "Epoch: 0750 cost= 1.332593441 W= 0.23907642 b= 0.8317131\n",
            "Epoch: 0750 cost= 1.387860060 W= 0.26102707 b= 0.83483016\n",
            "Epoch: 0750 cost= 1.322278500 W= 0.24089395 b= 0.8329644\n",
            "Epoch: 0750 cost= 1.674565554 W= 0.21630357 b= 0.82833606\n",
            "Epoch: 0750 cost= 1.312391162 W= 0.24396394 b= 0.8317949\n",
            "Epoch: 0750 cost= 1.340058208 W= 0.25577137 b= 0.8338832\n",
            "Epoch: 0750 cost= 1.403529286 W= 0.23121662 b= 0.8312344\n",
            "Epoch: 0750 cost= 1.523612976 W= 0.22352844 b= 0.82875437\n",
            "Epoch: 0800 cost= 1.448971510 W= 0.22793731 b= 0.8300904\n",
            "Epoch: 0800 cost= 1.505102873 W= 0.26872468 b= 0.83936024\n",
            "Epoch: 0800 cost= 1.346755743 W= 0.25622064 b= 0.8370868\n",
            "Epoch: 0800 cost= 2.382485151 W= 0.2987401 b= 0.84342355\n",
            "Epoch: 0800 cost= 1.715284228 W= 0.2142154 b= 0.83122665\n",
            "Epoch: 0800 cost= 1.892146349 W= 0.20791852 b= 0.8297159\n",
            "Epoch: 0800 cost= 1.350908518 W= 0.25711164 b= 0.8347464\n",
            "Epoch: 0800 cost= 1.481572032 W= 0.26773167 b= 0.8364643\n",
            "Epoch: 0800 cost= 1.317617416 W= 0.24203591 b= 0.8330788\n",
            "Epoch: 0800 cost= 1.332593441 W= 0.23907642 b= 0.8317131\n",
            "Epoch: 0800 cost= 1.387860060 W= 0.26102707 b= 0.83483016\n",
            "Epoch: 0800 cost= 1.322278500 W= 0.24089395 b= 0.8329644\n",
            "Epoch: 0800 cost= 1.674565554 W= 0.21630357 b= 0.82833606\n",
            "Epoch: 0800 cost= 1.312391162 W= 0.24396394 b= 0.8317949\n",
            "Epoch: 0800 cost= 1.340058208 W= 0.25577137 b= 0.8338832\n",
            "Epoch: 0800 cost= 1.403529286 W= 0.23121662 b= 0.8312344\n",
            "Epoch: 0800 cost= 1.523612976 W= 0.22352844 b= 0.82875437\n",
            "Epoch: 0850 cost= 1.448971510 W= 0.22793731 b= 0.8300904\n",
            "Epoch: 0850 cost= 1.505102873 W= 0.26872468 b= 0.83936024\n",
            "Epoch: 0850 cost= 1.346755743 W= 0.25622064 b= 0.8370868\n",
            "Epoch: 0850 cost= 2.382485151 W= 0.2987401 b= 0.84342355\n",
            "Epoch: 0850 cost= 1.715284228 W= 0.2142154 b= 0.83122665\n",
            "Epoch: 0850 cost= 1.892146349 W= 0.20791852 b= 0.8297159\n",
            "Epoch: 0850 cost= 1.350908518 W= 0.25711164 b= 0.8347464\n",
            "Epoch: 0850 cost= 1.481572032 W= 0.26773167 b= 0.8364643\n",
            "Epoch: 0850 cost= 1.317617416 W= 0.24203591 b= 0.8330788\n",
            "Epoch: 0850 cost= 1.332593441 W= 0.23907642 b= 0.8317131\n",
            "Epoch: 0850 cost= 1.387860060 W= 0.26102707 b= 0.83483016\n",
            "Epoch: 0850 cost= 1.322278500 W= 0.24089395 b= 0.8329644\n",
            "Epoch: 0850 cost= 1.674565554 W= 0.21630357 b= 0.82833606\n",
            "Epoch: 0850 cost= 1.312391162 W= 0.24396394 b= 0.8317949\n",
            "Epoch: 0850 cost= 1.340058208 W= 0.25577137 b= 0.8338832\n",
            "Epoch: 0850 cost= 1.403529286 W= 0.23121662 b= 0.8312344\n",
            "Epoch: 0850 cost= 1.523612976 W= 0.22352844 b= 0.82875437\n",
            "Epoch: 0900 cost= 1.448971510 W= 0.22793731 b= 0.8300904\n",
            "Epoch: 0900 cost= 1.505102873 W= 0.26872468 b= 0.83936024\n",
            "Epoch: 0900 cost= 1.346755743 W= 0.25622064 b= 0.8370868\n",
            "Epoch: 0900 cost= 2.382485151 W= 0.2987401 b= 0.84342355\n",
            "Epoch: 0900 cost= 1.715284228 W= 0.2142154 b= 0.83122665\n",
            "Epoch: 0900 cost= 1.892146349 W= 0.20791852 b= 0.8297159\n",
            "Epoch: 0900 cost= 1.350908518 W= 0.25711164 b= 0.8347464\n",
            "Epoch: 0900 cost= 1.481572032 W= 0.26773167 b= 0.8364643\n",
            "Epoch: 0900 cost= 1.317617416 W= 0.24203591 b= 0.8330788\n",
            "Epoch: 0900 cost= 1.332593441 W= 0.23907642 b= 0.8317131\n",
            "Epoch: 0900 cost= 1.387860060 W= 0.26102707 b= 0.83483016\n",
            "Epoch: 0900 cost= 1.322278500 W= 0.24089395 b= 0.8329644\n",
            "Epoch: 0900 cost= 1.674565554 W= 0.21630357 b= 0.82833606\n",
            "Epoch: 0900 cost= 1.312391162 W= 0.24396394 b= 0.8317949\n",
            "Epoch: 0900 cost= 1.340058208 W= 0.25577137 b= 0.8338832\n",
            "Epoch: 0900 cost= 1.403529286 W= 0.23121662 b= 0.8312344\n",
            "Epoch: 0900 cost= 1.523612976 W= 0.22352844 b= 0.82875437\n",
            "Epoch: 0950 cost= 1.448971510 W= 0.22793731 b= 0.8300904\n",
            "Epoch: 0950 cost= 1.505102873 W= 0.26872468 b= 0.83936024\n",
            "Epoch: 0950 cost= 1.346755743 W= 0.25622064 b= 0.8370868\n",
            "Epoch: 0950 cost= 2.382485151 W= 0.2987401 b= 0.84342355\n",
            "Epoch: 0950 cost= 1.715284228 W= 0.2142154 b= 0.83122665\n",
            "Epoch: 0950 cost= 1.892146349 W= 0.20791852 b= 0.8297159\n",
            "Epoch: 0950 cost= 1.350908518 W= 0.25711164 b= 0.8347464\n",
            "Epoch: 0950 cost= 1.481572032 W= 0.26773167 b= 0.8364643\n",
            "Epoch: 0950 cost= 1.317617416 W= 0.24203591 b= 0.8330788\n",
            "Epoch: 0950 cost= 1.332593441 W= 0.23907642 b= 0.8317131\n",
            "Epoch: 0950 cost= 1.387860060 W= 0.26102707 b= 0.83483016\n",
            "Epoch: 0950 cost= 1.322278500 W= 0.24089395 b= 0.8329644\n",
            "Epoch: 0950 cost= 1.674565554 W= 0.21630357 b= 0.82833606\n",
            "Epoch: 0950 cost= 1.312391162 W= 0.24396394 b= 0.8317949\n",
            "Epoch: 0950 cost= 1.340058208 W= 0.25577137 b= 0.8338832\n",
            "Epoch: 0950 cost= 1.403529286 W= 0.23121662 b= 0.8312344\n",
            "Epoch: 0950 cost= 1.523612976 W= 0.22352844 b= 0.82875437\n",
            "Epoch: 1000 cost= 1.448971510 W= 0.22793731 b= 0.8300904\n",
            "Epoch: 1000 cost= 1.505102873 W= 0.26872468 b= 0.83936024\n",
            "Epoch: 1000 cost= 1.346755743 W= 0.25622064 b= 0.8370868\n",
            "Epoch: 1000 cost= 2.382485151 W= 0.2987401 b= 0.84342355\n",
            "Epoch: 1000 cost= 1.715284228 W= 0.2142154 b= 0.83122665\n",
            "Epoch: 1000 cost= 1.892146349 W= 0.20791852 b= 0.8297159\n",
            "Epoch: 1000 cost= 1.350908518 W= 0.25711164 b= 0.8347464\n",
            "Epoch: 1000 cost= 1.481572032 W= 0.26773167 b= 0.8364643\n",
            "Epoch: 1000 cost= 1.317617416 W= 0.24203591 b= 0.8330788\n",
            "Epoch: 1000 cost= 1.332593441 W= 0.23907642 b= 0.8317131\n",
            "Epoch: 1000 cost= 1.387860060 W= 0.26102707 b= 0.83483016\n",
            "Epoch: 1000 cost= 1.322278500 W= 0.24089395 b= 0.8329644\n",
            "Epoch: 1000 cost= 1.674565554 W= 0.21630357 b= 0.82833606\n",
            "Epoch: 1000 cost= 1.312391162 W= 0.24396394 b= 0.8317949\n",
            "Epoch: 1000 cost= 1.340058208 W= 0.25577137 b= 0.8338832\n",
            "Epoch: 1000 cost= 1.403529286 W= 0.23121662 b= 0.8312344\n",
            "Epoch: 1000 cost= 1.523612976 W= 0.22352844 b= 0.82875437\n",
            "Optimization Finished!\n",
            "Training cost= 1.523613 W= 0.22352844 b= 0.82875437 \n",
            "\n"
          ],
          "name": "stdout"
        },
        {
          "output_type": "display_data",
          "data": {
            "image/png": "[encoded data removed]",
            "text/plain": [
              "<Figure size 576x396 with 1 Axes>"
            ]
          },
          "metadata": {
            "tags": []
          }
        }
      ]
    },
    {
      "metadata": {
        "id": "evVOuq8ur097",
        "colab_type": "text"
      },
      "cell_type": "markdown",
      "source": [
        "testing the trained model"
      ]
    },
    {
      "metadata": {
        "id": "q1yjdS7rpoYj",
        "colab_type": "code",
        "colab": {
          "base_uri": "https://localhost:8080/",
          "height": 399
        },
        "outputId": "bcc43db8-206f-4b22-981f-70851a614e73"
      },
      "cell_type": "code",
      "source": [
        "# Testing example:\n",
        "test_X = numpy.asarray([6.83, 4.668, 8.9, 7.91, 5.7, 8.7, 3.1, 2.1])\n",
        "test_Y = numpy.asarray([1.84, 2.273, 3.2, 2.831, 2.92, 3.24, 1.35, 1.03])\n",
        "\n",
        "print(\"Testing... (Mean square loss Comparison)\")\n",
        "# testing_cost = sess.run(tf.reduce_sum(tf.pow(pred - Y, 2)) / (2 * test_X.shape[0]),feed_dict={X: test_X, Y: test_Y})  # same function as cost above\n",
        "testing_cost = sess.run(tf.reduce_sum(tf.pow(pred - Y, 2)) / (2),feed_dict={X: test_X, Y: test_Y})  # same function as cost above\n",
        "print(\"Testing cost=\", testing_cost)\n",
        "print(\"Absolute mean square loss difference:\", abs(training_cost - testing_cost))\n",
        "\n",
        "plt.plot(test_X, test_Y, 'bo', label='Testing data')\n",
        "plt.plot(train_X, sess.run(W) * train_X + sess.run(b), label='Fitted line')\n",
        "plt.legend()\n",
        "plt.show()\n"
      ],
      "execution_count": 33,
      "outputs": [
        {
          "output_type": "stream",
          "text": [
            "Testing... (Mean square loss Comparison)\n",
            "Testing cost= 0.80686665\n",
            "Absolute mean square loss difference: 0.71674633\n"
          ],
          "name": "stdout"
        },
        {
          "output_type": "display_data",
          "data": {
            "image/png": "[encoded data removed]",
            "text/plain": [
              "<Figure size 576x396 with 1 Axes>"
            ]
          },
          "metadata": {
            "tags": []
          }
        }
      ]
    },
    {
      "metadata": {
        "id": "Nr0QD59Br-_Z",
        "colab_type": "text"
      },
      "cell_type": "markdown",
      "source": [
        "predict output for new value"
      ]
    },
    {
      "metadata": {
        "id": "y9fjzdR3r306",
        "colab_type": "code",
        "colab": {
          "base_uri": "https://localhost:8080/",
          "height": 69
        },
        "outputId": "67a60355-068c-4904-f8fa-0dc4dc58bf7d"
      },
      "cell_type": "code",
      "source": [
        "#Predicting output on new value:\n",
        "print(\"For new value '3.5'...\\n\")\n",
        "print(\"Predicted output:\", sess.run(pred,feed_dict={X: 3.5}))"
      ],
      "execution_count": 34,
      "outputs": [
        {
          "output_type": "stream",
          "text": [
            "For new value '3.5'...\n",
            "\n",
            "Predicted output: 1.611104\n"
          ],
          "name": "stdout"
        }
      ]
    },
    {
      "metadata": {
        "id": "MN6jWCxWsF2_",
        "colab_type": "text"
      },
      "cell_type": "markdown",
      "source": [
        "#Entering new value through Form"
      ]
    },
    {
      "metadata": {
        "id": "aU38QfBesBH0",
        "colab_type": "code",
        "colab": {}
      },
      "cell_type": "code",
      "source": [
        "\n",
        "\n",
        "#@title Enter a new value { form-width: \"100%\" }\n",
        "New_X = 3.5 #@param {type:\"number\"}\n",
        "\n"
      ],
      "execution_count": 0,
      "outputs": []
    },
    {
      "metadata": {
        "id": "JHnEnVVmsKxA",
        "colab_type": "code",
        "colab": {
          "base_uri": "https://localhost:8080/",
          "height": 69
        },
        "outputId": "a8efe3bf-2ed5-43f3-b922-741bfa7b7cae"
      },
      "cell_type": "code",
      "source": [
        "#Predicting output on new value:\n",
        "print(\"For new value...\\n\")\n",
        "print(\"Predicted output:\", sess.run(pred,feed_dict={X: New_X} ))"
      ],
      "execution_count": 36,
      "outputs": [
        {
          "output_type": "stream",
          "text": [
            "For new value...\n",
            "\n",
            "Predicted output: 1.611104\n"
          ],
          "name": "stdout"
        }
      ]
    },
    {
      "metadata": {
        "id": "4MqcLxHhsQmk",
        "colab_type": "code",
        "colab": {}
      },
      "cell_type": "code",
      "source": [
        "sess.close()"
      ],
      "execution_count": 0,
      "outputs": []
    },
    {
      "metadata": {
        "id": "z3XDeL8RseFI",
        "colab_type": "code",
        "colab": {}
      },
      "cell_type": "code",
      "source": [
        ""
      ],
      "execution_count": 0,
      "outputs": []
    }
  ]
}